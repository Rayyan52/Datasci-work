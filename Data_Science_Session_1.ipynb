{
  "cells": [
    {
      "cell_type": "markdown",
      "metadata": {
        "id": "view-in-github",
        "colab_type": "text"
      },
      "source": [
        "<a href=\"https://colab.research.google.com/github/Rayyan52/Datasci-work/blob/main/Data_Science_Session_1.ipynb\" target=\"_parent\"><img src=\"https://colab.research.google.com/assets/colab-badge.svg\" alt=\"Open In Colab\"/></a>"
      ]
    },
    {
      "cell_type": "markdown",
      "metadata": {
        "id": "_Tix2qDOu2-G"
      },
      "source": [
        "# **Numpy**\n"
      ]
    },
    {
      "cell_type": "markdown",
      "metadata": {
        "id": "m39ox47u2KUK"
      },
      "source": [
        "### **Creating array using NumPy**"
      ]
    },
    {
      "cell_type": "code",
      "execution_count": null,
      "metadata": {
        "id": "4BPJaMuj2Zc1"
      },
      "outputs": [],
      "source": [
        "import numpy as np"
      ]
    },
    {
      "cell_type": "code",
      "execution_count": null,
      "metadata": {
        "colab": {
          "base_uri": "https://localhost:8080/"
        },
        "id": "7Oqw97ZKgwNv",
        "outputId": "ce3d6f8a-d943-43aa-a6cd-e97614d01b0e"
      },
      "outputs": [
        {
          "output_type": "execute_result",
          "data": {
            "text/plain": [
              "array([1, 2, 3, 4, 5])"
            ]
          },
          "metadata": {},
          "execution_count": 2
        }
      ],
      "source": [
        "baithak1 = np.array([1,2,3,4,5])\n",
        "baithak1"
      ]
    },
    {
      "cell_type": "code",
      "execution_count": null,
      "metadata": {
        "colab": {
          "base_uri": "https://localhost:8080/"
        },
        "id": "JQw7OZdDg-9h",
        "outputId": "57418348-a751-46aa-a06b-d89546770554"
      },
      "outputs": [
        {
          "output_type": "execute_result",
          "data": {
            "text/plain": [
              "dtype('int64')"
            ]
          },
          "metadata": {},
          "execution_count": 3
        }
      ],
      "source": [
        "baithak1.dtype"
      ]
    },
    {
      "cell_type": "code",
      "execution_count": null,
      "metadata": {
        "colab": {
          "base_uri": "https://localhost:8080/"
        },
        "id": "fLNCwbEchSww",
        "outputId": "7f904a1f-c908-476c-8c57-1154161ec8e4"
      },
      "outputs": [
        {
          "output_type": "execute_result",
          "data": {
            "text/plain": [
              "numpy.ndarray"
            ]
          },
          "metadata": {},
          "execution_count": 4
        }
      ],
      "source": [
        "type(baithak1)"
      ]
    },
    {
      "cell_type": "markdown",
      "metadata": {
        "id": "uYyjLab7y68Z"
      },
      "source": [
        "NumPy Arrays using lists"
      ]
    },
    {
      "cell_type": "code",
      "execution_count": null,
      "metadata": {
        "colab": {
          "base_uri": "https://localhost:8080/"
        },
        "id": "oLUfWTz73It9",
        "outputId": "b2ff5923-3d90-4504-c2b0-d65b8cfa1ee5"
      },
      "outputs": [
        {
          "output_type": "execute_result",
          "data": {
            "text/plain": [
              "list"
            ]
          },
          "metadata": {},
          "execution_count": 5
        }
      ],
      "source": [
        "list =[1,2,3,4,5]\n",
        "type(list)"
      ]
    },
    {
      "cell_type": "code",
      "execution_count": null,
      "metadata": {
        "colab": {
          "base_uri": "https://localhost:8080/"
        },
        "id": "oW25xEunh8Pb",
        "outputId": "6154d28f-25f9-46ff-8a37-09fa6524aec4"
      },
      "outputs": [
        {
          "output_type": "execute_result",
          "data": {
            "text/plain": [
              "numpy.ndarray"
            ]
          },
          "metadata": {},
          "execution_count": 6
        }
      ],
      "source": [
        "baithak = np.array(list)\n",
        "type(baithak)"
      ]
    },
    {
      "cell_type": "markdown",
      "metadata": {
        "id": "FijdBQUyy65o"
      },
      "source": [
        "NumPy Arrays?\n",
        "\n",
        "1.   Matrices\n",
        "2.   Vectors\n",
        "\n"
      ]
    },
    {
      "cell_type": "code",
      "execution_count": null,
      "metadata": {
        "colab": {
          "base_uri": "https://localhost:8080/"
        },
        "id": "hUxII4rdyhdQ",
        "outputId": "a118a957-fa39-481e-cbad-8166564f7078"
      },
      "outputs": [
        {
          "output_type": "execute_result",
          "data": {
            "text/plain": [
              "array([[[ 1,  2,  3,  4,  5],\n",
              "        [ 7,  8,  9, 10, 11],\n",
              "        [ 7,  8,  9, 10, 11]],\n",
              "\n",
              "       [[ 1,  2,  3,  4,  5],\n",
              "        [ 7,  8,  9, 10, 11],\n",
              "        [ 7,  8,  9, 10, 11]]])"
            ]
          },
          "metadata": {},
          "execution_count": 7
        }
      ],
      "source": [
        "# matrix\n",
        "# 1D , 2D , 3D\n",
        "baithak2 = np.array([[[1,2,3,4,5],\n",
        "                    [7,8,9,10,11],\n",
        "                    [7,8,9,10,11]],\n",
        "\n",
        "                    [[1,2,3,4,5],\n",
        "                    [7,8,9,10,11],\n",
        "                    [7,8,9,10,11]]])\n",
        "baithak2\n"
      ]
    },
    {
      "cell_type": "code",
      "execution_count": null,
      "metadata": {
        "colab": {
          "base_uri": "https://localhost:8080/"
        },
        "id": "d6u5T_e-z36j",
        "outputId": "a3910a29-f6f9-4feb-c1fe-63159377ee88"
      },
      "outputs": [
        {
          "output_type": "execute_result",
          "data": {
            "text/plain": [
              "array([[81, 82, 83, 84],\n",
              "       [ 1,  2,  5,  6]])"
            ]
          },
          "metadata": {},
          "execution_count": 8
        }
      ],
      "source": [
        "# row vector\n",
        "row_vector = np.array([[81,82,83,84],[1,2,5,6]])\n",
        "\n",
        "row_vector"
      ]
    },
    {
      "cell_type": "code",
      "execution_count": null,
      "metadata": {
        "colab": {
          "base_uri": "https://localhost:8080/"
        },
        "id": "IRLnzilLkryu",
        "outputId": "ced62ba6-debf-4dad-fd86-0bae3189cc24"
      },
      "outputs": [
        {
          "output_type": "execute_result",
          "data": {
            "text/plain": [
              "array([[81],\n",
              "       [82],\n",
              "       [83]])"
            ]
          },
          "metadata": {},
          "execution_count": 9
        }
      ],
      "source": [
        "# column vector\n",
        "column_vector = np.array([[81],\n",
        "                          [82],\n",
        "                          [83]])\n",
        "\n",
        "column_vector"
      ]
    },
    {
      "cell_type": "markdown",
      "metadata": {
        "id": "oboTSRRB3q9k"
      },
      "source": [
        "NumPy Arrays using built-in methods\n",
        "\n",
        "\n",
        "\n",
        "\n"
      ]
    },
    {
      "cell_type": "code",
      "execution_count": null,
      "metadata": {
        "colab": {
          "base_uri": "https://localhost:8080/"
        },
        "id": "UITGrGEbyhf9",
        "outputId": "7b21b107-58d1-439e-c88b-7a21bcc7186f"
      },
      "outputs": [
        {
          "output_type": "execute_result",
          "data": {
            "text/plain": [
              "array([10,  9,  8,  7,  6,  5,  4,  3])"
            ]
          },
          "metadata": {},
          "execution_count": 10
        }
      ],
      "source": [
        "# arange\n",
        "# zeros\n",
        "# ones\n",
        "\n",
        "# linspace - HW\n",
        "\n",
        "array = np.arange(15)\n",
        "array = np.arange(5,20) #(start, stop) (include, exclude)\n",
        "array = np.arange(10,2,-1)\n",
        "array"
      ]
    },
    {
      "cell_type": "code",
      "execution_count": null,
      "metadata": {
        "colab": {
          "base_uri": "https://localhost:8080/"
        },
        "id": "594K0mJtnm3u",
        "outputId": "efe710b8-1d95-450f-937b-068d103b9acb"
      },
      "outputs": [
        {
          "output_type": "execute_result",
          "data": {
            "text/plain": [
              "array([1., 1., 1., 1., 1.])"
            ]
          },
          "metadata": {},
          "execution_count": 11
        }
      ],
      "source": [
        "zero = np.zeros(5)\n",
        "zero\n",
        "\n",
        "one = np.ones(5)\n",
        "one\n"
      ]
    },
    {
      "cell_type": "code",
      "execution_count": null,
      "metadata": {
        "id": "ML_RiH0So14S"
      },
      "outputs": [],
      "source": [
        "arr =np.array([[1,2,3],[7,8,9]])"
      ]
    },
    {
      "cell_type": "markdown",
      "metadata": {
        "id": "twcER-QwoTkA"
      },
      "source": [
        "arr.reshape"
      ]
    },
    {
      "cell_type": "code",
      "execution_count": null,
      "metadata": {
        "id": "OfJTZKLUpVBH"
      },
      "outputs": [],
      "source": [
        "#reshapre\n",
        "arr1 = np.arange(10,35)"
      ]
    },
    {
      "cell_type": "markdown",
      "metadata": {
        "id": "U5qWCJKYyhmn"
      },
      "source": [
        "Array with random numbers"
      ]
    },
    {
      "cell_type": "code",
      "execution_count": null,
      "metadata": {
        "id": "tX77jd9iyhty"
      },
      "outputs": [],
      "source": [
        "# HW np.random.rand"
      ]
    },
    {
      "cell_type": "markdown",
      "metadata": {
        "id": "4usOl4G17ZbZ"
      },
      "source": [
        "Array with random integers"
      ]
    },
    {
      "cell_type": "code",
      "execution_count": null,
      "metadata": {
        "id": "1MkhOJ4byhwZ"
      },
      "outputs": [],
      "source": [
        "# HW np.random.randint"
      ]
    },
    {
      "cell_type": "markdown",
      "metadata": {
        "id": "syvaIjukyiMT"
      },
      "source": [
        "Maximum and Minimum"
      ]
    },
    {
      "cell_type": "code",
      "execution_count": null,
      "metadata": {
        "id": "uSB4eNqY7x0N",
        "colab": {
          "base_uri": "https://localhost:8080/"
        },
        "outputId": "d03a5814-6548-48eb-cefe-9eaf9c6f210d"
      },
      "outputs": [
        {
          "output_type": "stream",
          "name": "stdout",
          "text": [
            "34\n",
            "10\n"
          ]
        }
      ],
      "source": [
        "print(arr1.max())\n",
        "print(arr1.min())"
      ]
    },
    {
      "cell_type": "markdown",
      "metadata": {
        "id": "XZqM-lku8DhS"
      },
      "source": [
        "Indexing"
      ]
    },
    {
      "cell_type": "code",
      "execution_count": null,
      "metadata": {
        "id": "yk8e1PCN8FP_",
        "colab": {
          "base_uri": "https://localhost:8080/"
        },
        "outputId": "a52a9f99-484c-4699-8e8b-d86595f1bff3"
      },
      "outputs": [
        {
          "output_type": "execute_result",
          "data": {
            "text/plain": [
              "array([[  2,   3,   4,   5],\n",
              "       [  8,   9,  10,  11],\n",
              "       [812,  92, 110,   1]])"
            ]
          },
          "metadata": {},
          "execution_count": 22
        }
      ],
      "source": [
        "baithak2 = np.array([[1,2,3,4,5],\n",
        "                    [7,8,9,10,11],\n",
        "                    [78,812,92,110,1]])\n",
        "\n",
        "baithak2[:,1:]"
      ]
    },
    {
      "cell_type": "markdown",
      "metadata": {
        "id": "TOEOUFJQ97JI"
      },
      "source": [
        "Slicing\n"
      ]
    },
    {
      "cell_type": "code",
      "execution_count": null,
      "metadata": {
        "id": "Do_aNWpb956G",
        "colab": {
          "base_uri": "https://localhost:8080/"
        },
        "outputId": "5536b747-db78-44a7-fa31-9417f21af467"
      },
      "outputs": [
        {
          "output_type": "execute_result",
          "data": {
            "text/plain": [
              "array([[  7,   8,   9,  10,  11],\n",
              "       [ 78, 812,  92, 110,   1]])"
            ]
          },
          "metadata": {},
          "execution_count": 23
        }
      ],
      "source": [
        "baithak2[1:]"
      ]
    },
    {
      "cell_type": "code",
      "execution_count": null,
      "metadata": {
        "id": "I_QSFNvy-l17",
        "colab": {
          "base_uri": "https://localhost:8080/"
        },
        "outputId": "8ba78860-4ae8-4943-ecf2-b23f6e706db4"
      },
      "outputs": [
        {
          "output_type": "execute_result",
          "data": {
            "text/plain": [
              "array([ 9, 92])"
            ]
          },
          "metadata": {},
          "execution_count": 24
        }
      ],
      "source": [
        "baithak2[1:,2]"
      ]
    },
    {
      "cell_type": "code",
      "source": [
        "baithak2[1:,1:3]"
      ],
      "metadata": {
        "colab": {
          "base_uri": "https://localhost:8080/"
        },
        "id": "fawFNjtfuC4K",
        "outputId": "2104c68c-4ab8-4d20-c3ad-a7f1d31bc69d"
      },
      "execution_count": null,
      "outputs": [
        {
          "output_type": "execute_result",
          "data": {
            "text/plain": [
              "array([[  8,   9],\n",
              "       [812,  92]])"
            ]
          },
          "metadata": {},
          "execution_count": 28
        }
      ]
    },
    {
      "cell_type": "markdown",
      "source": [
        "Join two arrays\n",
        "\n"
      ],
      "metadata": {
        "id": "ju_JKt97KdnZ"
      }
    },
    {
      "cell_type": "markdown",
      "source": [
        "#### Concatenate function"
      ],
      "metadata": {
        "id": "IxFxDxJ1vJGY"
      }
    },
    {
      "cell_type": "code",
      "execution_count": null,
      "metadata": {
        "id": "s12eV8gc-sNC",
        "colab": {
          "base_uri": "https://localhost:8080/"
        },
        "outputId": "1a527ca6-a87d-48ca-e603-4b948a468f3b"
      },
      "outputs": [
        {
          "output_type": "execute_result",
          "data": {
            "text/plain": [
              "array([[4, 5, 6],\n",
              "       [5, 8, 1],\n",
              "       [1, 2, 3],\n",
              "       [3, 4, 7]])"
            ]
          },
          "metadata": {},
          "execution_count": 36
        }
      ],
      "source": [
        "arr1 = np.array([[1, 2, 3],[3,4,7]])\n",
        "\n",
        "arr2 = np.array([[4, 5, 6],[5,8,1]])\n",
        "\n",
        "arr = np.concatenate((arr2,arr1))\n",
        "\n",
        "arr"
      ]
    },
    {
      "cell_type": "markdown",
      "source": [
        "#### Stack function"
      ],
      "metadata": {
        "id": "eTVUMmuhv3i6"
      }
    },
    {
      "cell_type": "code",
      "source": [
        "arr1 = np.array([1,2,3])\n",
        "arr2 = [4,5,6]\n",
        "arr3 = [7,8,9]"
      ],
      "metadata": {
        "id": "_webDPnNwbC8"
      },
      "execution_count": null,
      "outputs": []
    },
    {
      "cell_type": "code",
      "source": [
        "arr1.ndim"
      ],
      "metadata": {
        "colab": {
          "base_uri": "https://localhost:8080/"
        },
        "id": "XeM9T6rIxdSt",
        "outputId": "5b67ae5d-867b-4233-e97f-2281bcec2afb"
      },
      "execution_count": null,
      "outputs": [
        {
          "output_type": "execute_result",
          "data": {
            "text/plain": [
              "1"
            ]
          },
          "metadata": {},
          "execution_count": 52
        }
      ]
    },
    {
      "cell_type": "code",
      "execution_count": null,
      "metadata": {
        "id": "jZ_ZXLygA7dz",
        "colab": {
          "base_uri": "https://localhost:8080/"
        },
        "outputId": "f12d016a-a87a-4224-b54a-facc6ec984af"
      },
      "outputs": [
        {
          "output_type": "execute_result",
          "data": {
            "text/plain": [
              "array([[1, 2, 3],\n",
              "       [4, 5, 6]])"
            ]
          },
          "metadata": {},
          "execution_count": 42
        }
      ],
      "source": [
        "arr3 = np.stack((arr1,arr2), axis=0)\n",
        "arr3"
      ]
    },
    {
      "cell_type": "code",
      "source": [
        "arr3 = np.stack((arr1,arr2,arr3), axis=1)\n",
        "arr3"
      ],
      "metadata": {
        "colab": {
          "base_uri": "https://localhost:8080/"
        },
        "id": "zaVMZ48_wVai",
        "outputId": "269a17ff-77f3-4bc0-aafe-38a21f55a6b4"
      },
      "execution_count": null,
      "outputs": [
        {
          "output_type": "execute_result",
          "data": {
            "text/plain": [
              "array([[1, 4, 7],\n",
              "       [2, 5, 8],\n",
              "       [3, 6, 9]])"
            ]
          },
          "metadata": {},
          "execution_count": 44
        }
      ]
    },
    {
      "cell_type": "markdown",
      "source": [
        "Split Into Arrays"
      ],
      "metadata": {
        "id": "g-HcRAelKqD4"
      }
    },
    {
      "cell_type": "code",
      "execution_count": null,
      "metadata": {
        "id": "_nPZk9baA9ky",
        "colab": {
          "base_uri": "https://localhost:8080/"
        },
        "outputId": "77123b19-57bd-4044-98a8-e047d35dea0d"
      },
      "outputs": [
        {
          "output_type": "execute_result",
          "data": {
            "text/plain": [
              "18"
            ]
          },
          "metadata": {},
          "execution_count": 56
        }
      ],
      "source": [
        "array_big = np.array([1,2,3,4,12,5,6,7,8,9,10,1,5,0,25,324,78,8])\n",
        "len(array_big)"
      ]
    },
    {
      "cell_type": "code",
      "execution_count": null,
      "metadata": {
        "id": "ZJShir5BD_LU"
      },
      "outputs": [],
      "source": [
        "new_arr =np.array_split(array_big,5)"
      ]
    },
    {
      "cell_type": "code",
      "source": [
        "new_arr[2]"
      ],
      "metadata": {
        "colab": {
          "base_uri": "https://localhost:8080/"
        },
        "id": "WobrXpDoyThs",
        "outputId": "23b2c129-6b4f-4412-daff-e6b93da497ac"
      },
      "execution_count": null,
      "outputs": [
        {
          "output_type": "execute_result",
          "data": {
            "text/plain": [
              "array([ 8,  9, 10,  1])"
            ]
          },
          "metadata": {},
          "execution_count": 57
        }
      ]
    },
    {
      "cell_type": "code",
      "source": [
        "arr2d = np.array([[1, 2, 3], [4, 5, 6], [7, 8, 9], [10, 11, 12], [13, 14, 15], [16, 17, 18]])\n",
        "\n",
        "new_arr2 = np.array_split(arr2d, 2, axis = 1)\n",
        "\n",
        "new_arr2"
      ],
      "metadata": {
        "colab": {
          "base_uri": "https://localhost:8080/"
        },
        "id": "aCDMLcf3zIG9",
        "outputId": "754d3e7d-bad5-4ad9-9889-907c33e54de1"
      },
      "execution_count": null,
      "outputs": [
        {
          "output_type": "execute_result",
          "data": {
            "text/plain": [
              "[array([[ 1,  2],\n",
              "        [ 4,  5],\n",
              "        [ 7,  8],\n",
              "        [10, 11],\n",
              "        [13, 14],\n",
              "        [16, 17]]),\n",
              " array([[ 3],\n",
              "        [ 6],\n",
              "        [ 9],\n",
              "        [12],\n",
              "        [15],\n",
              "        [18]])]"
            ]
          },
          "metadata": {},
          "execution_count": 63
        }
      ]
    },
    {
      "cell_type": "markdown",
      "source": [
        "Search()"
      ],
      "metadata": {
        "id": "pfaPN7g5z4WV"
      }
    },
    {
      "cell_type": "code",
      "source": [
        "array_big_10 = np.where(array_big >= 10)\n",
        "array_big_10"
      ],
      "metadata": {
        "colab": {
          "base_uri": "https://localhost:8080/"
        },
        "id": "NRULKvclz6kc",
        "outputId": "386759dc-21ce-48bb-f09a-47f5b36100a4"
      },
      "execution_count": null,
      "outputs": [
        {
          "output_type": "execute_result",
          "data": {
            "text/plain": [
              "(array([ 4, 10, 14, 15, 16]),)"
            ]
          },
          "metadata": {},
          "execution_count": 65
        }
      ]
    },
    {
      "cell_type": "code",
      "source": [
        "array_big_1 = np.where(array_big == 10)\n",
        "array_big_1"
      ],
      "metadata": {
        "colab": {
          "base_uri": "https://localhost:8080/"
        },
        "id": "9Prygf840UeG",
        "outputId": "edc8336e-85d9-4953-96c3-970fff9552d7"
      },
      "execution_count": null,
      "outputs": [
        {
          "output_type": "execute_result",
          "data": {
            "text/plain": [
              "(array([10]),)"
            ]
          },
          "metadata": {},
          "execution_count": 67
        }
      ]
    },
    {
      "cell_type": "markdown",
      "source": [
        "Sort()"
      ],
      "metadata": {
        "id": "TuM738XDKwHS"
      }
    },
    {
      "cell_type": "code",
      "execution_count": null,
      "metadata": {
        "id": "U2kAQ3BlRCFb",
        "colab": {
          "base_uri": "https://localhost:8080/"
        },
        "outputId": "13a4609e-346a-4f05-d2e0-dcddd11778d2"
      },
      "outputs": [
        {
          "output_type": "execute_result",
          "data": {
            "text/plain": [
              "array([324,  78,  25,  12,  10,   9,   8,   8,   7,   6,   5,   5,   4,\n",
              "         3,   2,   1,   1,   0])"
            ]
          },
          "metadata": {},
          "execution_count": 76
        }
      ],
      "source": [
        "array_big_sort = np.sort(array_big)[::-1]\n",
        "array_big_sort"
      ]
    },
    {
      "cell_type": "code",
      "execution_count": null,
      "metadata": {
        "id": "tH037o1CRHDC"
      },
      "outputs": [],
      "source": []
    }
  ],
  "metadata": {
    "colab": {
      "provenance": [],
      "include_colab_link": true
    },
    "kernelspec": {
      "display_name": "Python 3",
      "name": "python3"
    },
    "language_info": {
      "name": "python"
    }
  },
  "nbformat": 4,
  "nbformat_minor": 0
}